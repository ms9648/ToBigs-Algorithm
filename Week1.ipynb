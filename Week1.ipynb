{
 "cells": [
  {
   "attachments": {},
   "cell_type": "markdown",
   "metadata": {},
   "source": [
    "## 1. 승리 카드\n",
    "\n",
    "카드들이 N × M 형태로 놓여 있을 때, 게임의 룰에 맞게 승리한 카드의 숫자를 출력하는 프로그램을 작성하시오.\n",
    "\n",
    "<image src = 'https://s3.amazonaws.com/mimirplatform.production/files/6297b838-2a82-4371-8c1e-57730752b5e0/%E1%84%80%E1%85%B3%E1%84%85%E1%85%B5%E1%86%B72.png' style = 'background-color: white'>\n",
    "\n",
    "**[게임 룰]**\n",
    "\n",
    "1. N명의 투빅이들은 각각 M개의 숫자 카드를 골라 차례대로 한 줄씩 일렬로 놓을 수 있다. 최종적으로 N × M 형태로 숫자카드들이 놓여진다. 여기서 N은 행의 개수를 의미하고, M은 열의 개수를 의미한다.\n",
    "\n",
    "2. 먼저, 자신이 놓은 카드 M개 중 가장 작은 숫자 카드를 뽑는다.\n",
    "\n",
    "3. 그 다음, N명의 투빅이들이 고른 가장 작은 숫자 카드 N개 중 가장 높은 숫자를 가진 투빅이가 승리한다.\n",
    "\n",
    "**[입력 조건]**\n",
    "\n",
    "- 첫째 줄에 숫자 카드들이 놓인 행의 개수 N과 열의 개수 M이 공백을 기준으로 하여 각각 자연수로 주어진다.\n",
    "\n",
    "- 둘째 줄부터 N개의 줄에 걸쳐 각 카드에 적힌 숫자가 주어진다. 각 숫자는 1 이상 10,000 이하의 자연수이다.\n",
    "\n",
    "**[출력 조건]**\n",
    "\n",
    "- 첫째 줄에 게임의 룰에 맞게 승리한 카드에 적힌 숫자를 출력한다."
   ]
  },
  {
   "cell_type": "code",
   "execution_count": null,
   "metadata": {},
   "outputs": [],
   "source": [
    "board = list() # 카드를 놓을 보드 선언\n",
    "\n",
    "N, M = map(int, input().split())\n",
    "\n",
    "for i in range(N):\n",
    "    board.append(input().split())\n",
    "\n",
    "Minimum = 0\n",
    "\n",
    "for k in range(N):\n",
    "    if Minimum < min(list(map(int, board[k]))):\n",
    "        Minimum = min(list(map(int, board[k])))\n",
    "\n",
    "print(Minimum)"
   ]
  },
  {
   "attachments": {},
   "cell_type": "markdown",
   "metadata": {},
   "source": [
    "## 2. 달팽이야 가자\n",
    "\n",
    "맹구가 키우는 달팽이가 N × N 크기의 정사각형 미로 위에 서 있다. 이 공간은 1 곱하기 1 크기의 정사각형으로 나누어져 있으며 가장 왼쪽 위 좌표는 (1,1)이고, 가장 오른쪽 아래 좌표는 (N,N)이다. 맹구는 달팽이가 상, 하, 좌, 우 방향으로 스스로 이동할 수 있도록 달팽이를 훈련시키고자 한다. 달팽이의 시작 좌표는 항상 (1,1)이다. 맹구가 미로에 R, L, U, D 중의 문자를 반복적으로 적어 달팽이에게 보여주면 달팽이는 미로에 적힌 문자를 보고 차례대로 이동을 한다. 달팽이가 도착하는 최종 위치가 정답 위치라면 맹구는 달팽이에게 깻잎을 선물로 준다. 이때 달팽이가 N × N 크기의 정사각형 공간을 벗어나는 움직임은 무시된다. 그때, 주어진 입력에 따라 도착한 달팽이의 도착 지점의 좌표를 출력하세요.\n",
    "\n",
    "- L: 왼쪽으로 한 칸 이동\n",
    "\n",
    "- R: 오른쪽으로 한 칸 이동\n",
    "\n",
    "- U: 위로 한 칸 이동\n",
    "\n",
    "- D: 아래로 한 칸 이동\n",
    "\n",
    "<image src = 'https://s3.amazonaws.com/mimirplatform.production/files/22fa8f71-f9d0-4155-82e3-3316f0ca38e9/%E1%84%80%E1%85%B3%E1%84%85%E1%85%B5%E1%86%B71.png' style = 'background-color: white;'>\n",
    "\n",
    "다음은 N=5인 지도와 그림판 내용이다.\n",
    "이 경우 6개의 명령을 받아 달팽이가 움직이는 위치는 순서대로 (1,2), (1,3), (1,3), (2,3), (3,3), (3,2) 이므로 최종적으로 달팽이가 도착하게 되는 곳의 좌표는 (3,2)이다. 다시 말해 3행 2열의 위치에 해당하므로 (3,2)라고 적는다.\n",
    "\n",
    "**[입력 조건]**\n",
    "\n",
    "- 첫째 줄에 공간의 크기를 나타내는 N이 주어진다. (1≤N≤100)\n",
    "\n",
    "- 둘째 줄에 달팽이가 이동해야 하는 방향이 적힌 그림판 내용이 주어진다. (1≤이동 횟수≤100)\n",
    "\n",
    "**[출력 조건]**\n",
    "\n",
    "- 첫째 줄에 달팽이가 최종적으로 도착해야 하는 지점의 좌표 (X, Y)를 공백으로 구분하여 출력한다."
   ]
  },
  {
   "cell_type": "code",
   "execution_count": null,
   "metadata": {},
   "outputs": [],
   "source": [
    "N = int(input())\n",
    "D = input().split(' ')\n",
    "\n",
    "x = 1\n",
    "y = 1\n",
    "Move = [(0, -1), (0, 1), (-1, 0), (1, 0)]\n",
    "Direction = ['L', 'R', 'U', 'D']\n",
    "\n",
    "for i in D:\n",
    "    moved_x = x + Move[Direction.index(i)][0]\n",
    "    moved_y = y + Move[Direction.index(i)][1]\n",
    "    \n",
    "    if moved_x < 1 or moved_y < 1 or moved_x > N or moved_y > N: \n",
    "        continue\n",
    "\n",
    "    x = moved_x\n",
    "    y = moved_y\n",
    "    \n",
    "print(x, y)"
   ]
  },
  {
   "attachments": {},
   "cell_type": "markdown",
   "metadata": {},
   "source": [
    "## 3. 가보자고\n",
    "\n",
    "소영이의 대학원 건물 엘리베이터는 한 번 작동 시 U층만큼 올라갔다가, D층만큼 내려간다.\n",
    "\n",
    "이 엘리베이터를 타고 건물 최상층인 H층까지 올라가려고 한다.\n",
    "\n",
    "건물은 0층부터 H층까지 로 구성되어 있으며, H층에 도착하면 엘리베이터가 내려가지 않는다. 소영이가 이 엘리베이터를 타고 H층에 도착하려면, 몇 번 동작 시켜야 할까요?\n",
    "\n",
    "**[입력 조건]**\n",
    "\n",
    "- 첫째 줄에 세 정수 U, D, H가 공백으로 구분되어 주어진다.\n",
    "\n",
    "- 1 <= D < U <= H <= 1000000000\n",
    "\n",
    "**[출력 조건]**\n",
    "\n",
    "- 첫째 줄에 H층에 도착하기까지 엘리베이터를 작동시켜야 하는 횟수를 출력한다."
   ]
  },
  {
   "cell_type": "code",
   "execution_count": 34,
   "metadata": {},
   "outputs": [
    {
     "data": {
      "text/plain": [
       "4"
      ]
     },
     "execution_count": 34,
     "metadata": {},
     "output_type": "execute_result"
    }
   ],
   "source": [
    "import math\n",
    "\n",
    "U, D, H = map(int, input().split())\n",
    "\n",
    "print(math.ceil((H - U) / (U - D) + 1))"
   ]
  },
  {
   "attachments": {},
   "cell_type": "markdown",
   "metadata": {},
   "source": [
    "## 4. 숫자 바꾸기\n",
    "\n",
    "재민이는 0과 1로 이루어진 카드 번호 C를 가지고 있다. 카드 번호 C의 숫자를 전부 같게 만들어야 하는데, 재민이가 할 수 있는 것은 카드 번호 C에서 연속된 하나 이상의 숫자를 잡고 모두 바꾸는 것이다. 바꾸는 것은 1을 0으로, 0을 1로 뒤집는 것을 의미한다.\n",
    "\n",
    "예를 들어 문자열 C가 00011000일 때,\n",
    "\n",
    "전체를 바꾸면 11100111이 된다.\n",
    "4번째 문자부터 5번째 문자까지 바꾸면 1111111이 되어서 2번 만에 모두 같은 숫자로 만들 수 있다.\n",
    "하지만, 처음부터 4번째 문자부터 5번째 문자를 바꾸면 한 번에 0000000이 되어서 1번 만에 같은 문자로 뒤집을 수 있다. 문자열이 주어졌을 때, 재민이가 해야 하는 행동의 최소 횟수를 출력 하시오.\n",
    "\n",
    "[입력 조건]\n",
    "\n",
    "첫째 줄에 카드 번호 C가 주어진다. 카드 번호 C의 길이는 100만보다 작다.\n",
    "\n",
    "[출력 조건]\n",
    "\n",
    "첫째 줄에 재민이가 해야 하는 행동의 최소 숫자를 출력한다."
   ]
  },
  {
   "cell_type": "code",
   "execution_count": 60,
   "metadata": {},
   "outputs": [
    {
     "name": "stdout",
     "output_type": "stream",
     "text": [
      "2\n"
     ]
    }
   ],
   "source": [
    "k = list(input())\n",
    "a = list()\n",
    "\n",
    "for i in k:\n",
    "    if not a or a[-1] != i:\n",
    "        a.append(i)\n",
    "\n",
    "print(min(a.count('0'), a.count('1')))"
   ]
  },
  {
   "attachments": {},
   "cell_type": "markdown",
   "metadata": {},
   "source": [
    "## 5. 우영우수\n",
    "\n",
    "영우는 자신의 이름과 같이 거꾸로 읽어도, 앞으로 읽어도 같은 수를 우영우수라고 부른다.\n",
    "\n",
    "예를 들어 121, 12421을 우영우수라고 할 수 있다. 123, 1231은 뒤에서부터 읽으면 다르므로 우영우수가 아니다.  이 문제에서는 010과 같이 앞에 무의미한 0이 오는 경우가 없다고 하자.\n",
    "\n",
    "[입력 조건]\n",
    "\n",
    "입력은 여러 개의 테스트 케이스로 이루어져 있으며, 각 줄마다 0보다 크고 100000보다 작은 수가 주어진다. 입력 마지막 줄에는 0이 주어지며, 이 줄은 문제에 포함되지 않는다.\n",
    "\n",
    "[출력 조건]\n",
    "\n",
    "각 줄마다 주어진 수가 우영우수면 ‘yes’, 아니면 ‘no’를 출력한다."
   ]
  },
  {
   "cell_type": "code",
   "execution_count": 61,
   "metadata": {},
   "outputs": [
    {
     "name": "stdout",
     "output_type": "stream",
     "text": [
      "no\n",
      "yes\n",
      "yes\n",
      "yes\n",
      "yes\n",
      "no\n",
      "yes\n",
      "yes\n",
      "yes\n"
     ]
    }
   ],
   "source": [
    "while True:\n",
    "    a = input()\n",
    "    if a == '0':\n",
    "        break\n",
    "    if a == a[::-1]:\n",
    "        print('yes')\n",
    "    else:\n",
    "        print('no')"
   ]
  }
 ],
 "metadata": {
  "kernelspec": {
   "display_name": "Python 3",
   "language": "python",
   "name": "python3"
  },
  "language_info": {
   "codemirror_mode": {
    "name": "ipython",
    "version": 3
   },
   "file_extension": ".py",
   "mimetype": "text/x-python",
   "name": "python",
   "nbconvert_exporter": "python",
   "pygments_lexer": "ipython3",
   "version": "3.10.5"
  },
  "orig_nbformat": 4,
  "vscode": {
   "interpreter": {
    "hash": "c75c43c2f521f9af9e542d929de0113d2885c61f9244d7c222152b1c64260bb8"
   }
  }
 },
 "nbformat": 4,
 "nbformat_minor": 2
}
